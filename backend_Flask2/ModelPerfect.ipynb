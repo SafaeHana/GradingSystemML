{
 "cells": [
  {
   "cell_type": "code",
   "execution_count": null,
   "id": "476ad176",
   "metadata": {},
   "outputs": [
    {
     "ename": "",
     "evalue": "",
     "output_type": "error",
     "traceback": [
      "\u001b[1;31mRunning cells with 'myvenv' requires the ipykernel package.\n",
      "\u001b[1;31mRun the following command to install 'ipykernel' into the Python environment. \n",
      "\u001b[1;31mCommand: 'c:/Users/safae/Documents/lsIS4/ML2/backend_Flask2/myvenv/Scripts/python.exe -m pip install ipykernel -U --force-reinstall'"
     ]
    }
   ],
   "source": [
    "import numpy as np\n",
    "import matplotlib.pyplot as plt\n",
    "import pandas as pd \n",
    "import seaborn as sns\n",
    "from sklearn.metrics.pairwise import cosine_similarity\n",
    "from sklearn.metrics.pairwise import cosine_distances\n",
    "import warnings \n",
    "warnings.filterwarnings('ignore')\n",
    "import pickle"
   ]
  },
  {
   "cell_type": "code",
   "execution_count": null,
   "id": "e9a0d860",
   "metadata": {},
   "outputs": [],
   "source": [
    "# apload data\n",
    "df2 = pd.read_csv(\"Dataset_Small_range.csv\")\n",
    "df1 = pd.read_csv(\"new_DATASET1 (1).csv\")"
   ]
  },
  {
   "cell_type": "code",
   "execution_count": null,
   "id": "ffa3f9c2",
   "metadata": {},
   "outputs": [
    {
     "data": {
      "text/html": [
       "<div>\n",
       "<style scoped>\n",
       "    .dataframe tbody tr th:only-of-type {\n",
       "        vertical-align: middle;\n",
       "    }\n",
       "\n",
       "    .dataframe tbody tr th {\n",
       "        vertical-align: top;\n",
       "    }\n",
       "\n",
       "    .dataframe thead th {\n",
       "        text-align: right;\n",
       "    }\n",
       "</style>\n",
       "<table border=\"1\" class=\"dataframe\">\n",
       "  <thead>\n",
       "    <tr style=\"text-align: right;\">\n",
       "      <th></th>\n",
       "      <th>Question_id</th>\n",
       "      <th>Question_text</th>\n",
       "      <th>Score</th>\n",
       "      <th>Answers</th>\n",
       "    </tr>\n",
       "  </thead>\n",
       "  <tbody>\n",
       "    <tr>\n",
       "      <th>0</th>\n",
       "      <td>1</td>\n",
       "      <td>ما هي العلاقة بين المغرب والدول الأوروبية خلال...</td>\n",
       "      <td>0.0</td>\n",
       "      <td>الدول الأوروبية</td>\n",
       "    </tr>\n",
       "    <tr>\n",
       "      <th>1</th>\n",
       "      <td>1</td>\n",
       "      <td>ما هي العلاقة بين المغرب والدول الأوروبية خلال...</td>\n",
       "      <td>0.0</td>\n",
       "      <td>الدول الأوروبية المغرب</td>\n",
       "    </tr>\n",
       "    <tr>\n",
       "      <th>2</th>\n",
       "      <td>1</td>\n",
       "      <td>ما هي العلاقة بين المغرب والدول الأوروبية خلال...</td>\n",
       "      <td>0.0</td>\n",
       "      <td>كانت العلاقة بين المغرب و الدول الأوروبية</td>\n",
       "    </tr>\n",
       "    <tr>\n",
       "      <th>3</th>\n",
       "      <td>1</td>\n",
       "      <td>ما هي العلاقة بين المغرب والدول الأوروبية خلال...</td>\n",
       "      <td>0.0</td>\n",
       "      <td>تميزت العلاقة بين المغرب والدول الأوروبية</td>\n",
       "    </tr>\n",
       "    <tr>\n",
       "      <th>4</th>\n",
       "      <td>1</td>\n",
       "      <td>ما هي العلاقة بين المغرب والدول الأوروبية خلال...</td>\n",
       "      <td>4.0</td>\n",
       "      <td>استعمار الدول الأوروبية المغرب</td>\n",
       "    </tr>\n",
       "  </tbody>\n",
       "</table>\n",
       "</div>"
      ],
      "text/plain": [
       "   Question_id                                      Question_text  Score  \\\n",
       "0            1  ما هي العلاقة بين المغرب والدول الأوروبية خلال...    0.0   \n",
       "1            1  ما هي العلاقة بين المغرب والدول الأوروبية خلال...    0.0   \n",
       "2            1  ما هي العلاقة بين المغرب والدول الأوروبية خلال...    0.0   \n",
       "3            1  ما هي العلاقة بين المغرب والدول الأوروبية خلال...    0.0   \n",
       "4            1  ما هي العلاقة بين المغرب والدول الأوروبية خلال...    4.0   \n",
       "\n",
       "                                     Answers  \n",
       "0                           الدول الأوروبية   \n",
       "1                     الدول الأوروبية المغرب  \n",
       "2  كانت العلاقة بين المغرب و الدول الأوروبية  \n",
       "3  تميزت العلاقة بين المغرب والدول الأوروبية  \n",
       "4             استعمار الدول الأوروبية المغرب  "
      ]
     },
     "execution_count": 8,
     "metadata": {},
     "output_type": "execute_result"
    }
   ],
   "source": [
    "# Fusionner les deux ensembles de données en utilisant la colonne commune : Question_id\n",
    "df = pd.merge(df1, df2, on='Question_id')\n",
    "df.head()"
   ]
  },
  {
   "cell_type": "code",
   "execution_count": null,
   "id": "e33c9135",
   "metadata": {},
   "outputs": [],
   "source": [
    "import nltk\n",
    "from nltk.tokenize import word_tokenize"
   ]
  },
  {
   "cell_type": "code",
   "execution_count": null,
   "id": "47641304",
   "metadata": {
    "scrolled": false
   },
   "outputs": [],
   "source": [
    "#Tokenisation\n",
    "df['Answers'] = df['Answers'].apply(nltk.word_tokenize)"
   ]
  },
  {
   "cell_type": "code",
   "execution_count": null,
   "id": "9032ec1c",
   "metadata": {},
   "outputs": [],
   "source": [
    "#Drop stop words\n",
    "from nltk.corpus import stopwords\n",
    "\n",
    "stop_words = set(stopwords.words('Arabic'))\n",
    "df['Answers'] = df['Answers'].apply(lambda x: [w for w in x if not w in stop_words])"
   ]
  },
  {
   "cell_type": "code",
   "execution_count": null,
   "id": "7fc93566",
   "metadata": {},
   "outputs": [
    {
     "data": {
      "text/html": [
       "<div>\n",
       "<style scoped>\n",
       "    .dataframe tbody tr th:only-of-type {\n",
       "        vertical-align: middle;\n",
       "    }\n",
       "\n",
       "    .dataframe tbody tr th {\n",
       "        vertical-align: top;\n",
       "    }\n",
       "\n",
       "    .dataframe thead th {\n",
       "        text-align: right;\n",
       "    }\n",
       "</style>\n",
       "<table border=\"1\" class=\"dataframe\">\n",
       "  <thead>\n",
       "    <tr style=\"text-align: right;\">\n",
       "      <th></th>\n",
       "      <th>Question_id</th>\n",
       "      <th>Question_text</th>\n",
       "      <th>Score</th>\n",
       "      <th>Answers</th>\n",
       "    </tr>\n",
       "  </thead>\n",
       "  <tbody>\n",
       "    <tr>\n",
       "      <th>0</th>\n",
       "      <td>1</td>\n",
       "      <td>ما هي العلاقة بين المغرب والدول الأوروبية خلال...</td>\n",
       "      <td>0.0</td>\n",
       "      <td>[الدول, الأوروبية]</td>\n",
       "    </tr>\n",
       "    <tr>\n",
       "      <th>1</th>\n",
       "      <td>1</td>\n",
       "      <td>ما هي العلاقة بين المغرب والدول الأوروبية خلال...</td>\n",
       "      <td>0.0</td>\n",
       "      <td>[الدول, الأوروبية, المغرب]</td>\n",
       "    </tr>\n",
       "    <tr>\n",
       "      <th>2</th>\n",
       "      <td>1</td>\n",
       "      <td>ما هي العلاقة بين المغرب والدول الأوروبية خلال...</td>\n",
       "      <td>0.0</td>\n",
       "      <td>[كانت, العلاقة, المغرب, الدول, الأوروبية]</td>\n",
       "    </tr>\n",
       "    <tr>\n",
       "      <th>3</th>\n",
       "      <td>1</td>\n",
       "      <td>ما هي العلاقة بين المغرب والدول الأوروبية خلال...</td>\n",
       "      <td>0.0</td>\n",
       "      <td>[تميزت, العلاقة, المغرب, والدول, الأوروبية]</td>\n",
       "    </tr>\n",
       "    <tr>\n",
       "      <th>4</th>\n",
       "      <td>1</td>\n",
       "      <td>ما هي العلاقة بين المغرب والدول الأوروبية خلال...</td>\n",
       "      <td>4.0</td>\n",
       "      <td>[استعمار, الدول, الأوروبية, المغرب]</td>\n",
       "    </tr>\n",
       "  </tbody>\n",
       "</table>\n",
       "</div>"
      ],
      "text/plain": [
       "   Question_id                                      Question_text  Score  \\\n",
       "0            1  ما هي العلاقة بين المغرب والدول الأوروبية خلال...    0.0   \n",
       "1            1  ما هي العلاقة بين المغرب والدول الأوروبية خلال...    0.0   \n",
       "2            1  ما هي العلاقة بين المغرب والدول الأوروبية خلال...    0.0   \n",
       "3            1  ما هي العلاقة بين المغرب والدول الأوروبية خلال...    0.0   \n",
       "4            1  ما هي العلاقة بين المغرب والدول الأوروبية خلال...    4.0   \n",
       "\n",
       "                                       Answers  \n",
       "0                           [الدول, الأوروبية]  \n",
       "1                   [الدول, الأوروبية, المغرب]  \n",
       "2    [كانت, العلاقة, المغرب, الدول, الأوروبية]  \n",
       "3  [تميزت, العلاقة, المغرب, والدول, الأوروبية]  \n",
       "4          [استعمار, الدول, الأوروبية, المغرب]  "
      ]
     },
     "execution_count": 12,
     "metadata": {},
     "output_type": "execute_result"
    }
   ],
   "source": [
    "#Lemmatization & stemming\n",
    "from nltk.stem.wordnet import WordNetLemmatizer\n",
    "from nltk.stem import PorterStemmer\n",
    "\n",
    "stemmer = PorterStemmer()\n",
    "# Stem words in answers column\n",
    "df['Answers'] = df['Answers'].apply(lambda x: [stemmer.stem(word) for word in x])\n",
    "\n",
    "lemmatizer = WordNetLemmatizer()\n",
    "# Lemmatize words in answers column\n",
    "df['Answers'] = df['Answers'].apply(lambda x: [lemmatizer.lemmatize(word) for word in x])\n",
    "\n",
    "df.head()"
   ]
  },
  {
   "cell_type": "code",
   "execution_count": null,
   "id": "c3240476",
   "metadata": {},
   "outputs": [],
   "source": [
    "#Word2Vec\n",
    "from gensim.models import Word2Vec\n",
    "model = Word2Vec(df['Answers'], min_count=1)"
   ]
  },
  {
   "cell_type": "code",
   "execution_count": null,
   "id": "5a59030d",
   "metadata": {},
   "outputs": [],
   "source": [
    "#Vectorise toutes les réponses\n",
    "max_len = model.vector_size\n",
    "\n",
    "W = np.zeros((len(df['Answers']), max_len))\n",
    "for i, sentence in enumerate(df['Answers']):\n",
    "    word_vectors = []\n",
    "    for word in sentence:\n",
    "        if word in model.wv:\n",
    "            word_vectors.append(model.wv[word])\n",
    "    if len(word_vectors) > 0:\n",
    "        mean_vector = np.mean(word_vectors, axis=0)\n",
    "        W[i, :] = mean_vector"
   ]
  },
  {
   "cell_type": "code",
   "execution_count": null,
   "id": "f4944467",
   "metadata": {},
   "outputs": [],
   "source": [
    "# Demander à l'utilisateur d'entrer une réponse et un id de question\n",
    "question_id= 2\n",
    "response = \"تعاني العلاقة بين المغرب والجزائر من توترات وتحديات بسبب الصحراء\""
   ]
  },
  {
   "cell_type": "code",
   "execution_count": null,
   "id": "d4c532b1",
   "metadata": {},
   "outputs": [
    {
     "data": {
      "text/plain": [
       "['تعاني',\n",
       " 'العلاقة',\n",
       " 'المغرب',\n",
       " 'والجزائر',\n",
       " 'توترات',\n",
       " 'وتحديات',\n",
       " 'بسبب',\n",
       " 'الصحراء']"
      ]
     },
     "execution_count": 16,
     "metadata": {},
     "output_type": "execute_result"
    }
   ],
   "source": [
    "# Tokeniser la réponse entrée\n",
    "response_tokens = nltk.word_tokenize(response)\n",
    "\n",
    "# Supprimer les mots d'arrêt de la réponse\n",
    "response_tokens = [w for w in response_tokens if not w in stop_words]\n",
    "\n",
    "# Appliquer le stemming à la réponse\n",
    "response_tokens = [stemmer.stem(word) for word in response_tokens]\n",
    "\n",
    "# Appliquer la lemmatisation à la réponse\n",
    "response_tokens = [lemmatizer.lemmatize(word) for word in response_tokens]\n",
    "\n",
    "# Vectoriser la réponse en utilisant le modèle Word2Vec\n",
    "response_vector = np.mean([model.wv[word] for word in response_tokens if word in model.wv], axis=0)\n",
    "\n",
    "response_vector\n",
    "response_tokens"
   ]
  },
  {
   "cell_type": "code",
   "execution_count": null,
   "id": "9eda9972",
   "metadata": {},
   "outputs": [],
   "source": [
    "def find_existing_answers_vectors(df, question_id, W):\n",
    "\n",
    "    if question_id in df['Question_id'].values:\n",
    "        # Trouver tous les indices correspondants à l'ID de la question\n",
    "        question_indices = df.index[df['Question_id'] == question_id].tolist()\n",
    "\n",
    "        # Extraire les vecteurs de réponse correspondants à partir de la matrice W\n",
    "        existing_answers_vectors = []\n",
    "        for i in question_indices:\n",
    "            existing_answers_vectors.append(W[i])\n",
    "    else:\n",
    "        print(\"L'ID de la question que vous avez fourni est incorrect\")\n",
    "        existing_answers_vectors = None\n",
    "    existing_answers_vectors = np.array(existing_answers_vectors)\n",
    "    return existing_answers_vectors"
   ]
  },
  {
   "cell_type": "code",
   "execution_count": null,
   "id": "4cae0b6b",
   "metadata": {},
   "outputs": [
    {
     "name": "stdout",
     "output_type": "stream",
     "text": [
      "Predicted score: 2.779742758562498\n"
     ]
    }
   ],
   "source": [
    "from sklearn.model_selection import train_test_split\n",
    "from sklearn.preprocessing import MinMaxScaler\n",
    "from sklearn.neural_network import MLPRegressor\n",
    "\n",
    "existing_answers_vectors = find_existing_answers_vectors(df, question_id, W)\n",
    "\n",
    "# Split the data into training and test sets\n",
    "X_train, X_test, y_train, y_test = train_test_split(existing_answers_vectors, df[(df['Question_id'] == question_id)]['Score'], test_size=0.2, random_state=42)\n",
    "\n",
    "# Scale input data to [0, 1] range\n",
    "#scaler = MinMaxScaler()\n",
    "#X_train_scaled = scaler.fit_transform(X_train)\n",
    "#X_test_scaled = scaler.transform(X_test)\n",
    "\n",
    "# Create and train the MLP regression model\n",
    "mlp_model = MLPRegressor(hidden_layer_sizes=(100, 100), activation='relu', solver='adam', random_state=42)\n",
    "mlp_model.fit(X_train, y_train)\n",
    "\n",
    "# Reshape response vector to have shape (1, n)\n",
    "response_vector_reshaped = response_vector.reshape(1, -1)\n",
    "\n",
    "# Predict the score using the MLP regression model\n",
    "score_prediction = mlp_model.predict(response_vector_reshaped)\n",
    "\n",
    "# Print the predicted score\n",
    "print(\"Predicted score:\", score_prediction[0])\n"
   ]
  },
  {
   "cell_type": "code",
   "execution_count": null,
   "id": "d4c93443",
   "metadata": {},
   "outputs": [
    {
     "name": "stdout",
     "output_type": "stream",
     "text": [
      "Predicted score: 2.8498295352896523\n"
     ]
    }
   ],
   "source": [
    "from sklearn.model_selection import train_test_split\n",
    "from sklearn.preprocessing import MinMaxScaler\n",
    "from sklearn.svm import SVR\n",
    "\n",
    "existing_answers_vectors = find_existing_answers_vectors(df, question_id, W)\n",
    "\n",
    "# Split the data into training and test sets\n",
    "X_train, X_test, y_train, y_test = train_test_split(existing_answers_vectors, df[(df['Question_id'] == question_id)]['Score'], test_size=0.2, random_state=42)\n",
    "\n",
    "# Scale input data to [0, 1] range\n",
    "#scaler = MinMaxScaler()\n",
    "#X_train_scaled = scaler.fit_transform(X_train)\n",
    "#X_test_scaled = scaler.transform(X_test)\n",
    "\n",
    "# Create and train the SVR model\n",
    "svr_model = SVR(kernel='rbf', C=1.0, epsilon=0.1)\n",
    "svr_model.fit(X_train, y_train)\n",
    "\n",
    "# Reshape response vector to have shape (1, n)\n",
    "response_vector_reshaped = response_vector.reshape(1, -1)\n",
    "\n",
    "# Predict the score using the SVR model\n",
    "score_prediction = svr_model.predict(response_vector_reshaped)\n",
    "\n",
    "# Print the predicted score\n",
    "print(\"Predicted score:\", score_prediction[0])\n"
   ]
  },
  {
   "cell_type": "code",
   "execution_count": null,
   "id": "98e4a415",
   "metadata": {},
   "outputs": [],
   "source": [
    "from sklearn.metrics.pairwise import cosine_similarity\n",
    "from sklearn.ensemble import RandomForestRegressor\n",
    "from sklearn.model_selection import train_test_split\n",
    "from sklearn.preprocessing import MinMaxScaler\n",
    "import numpy as np\n",
    "\n",
    "existing_answers_vectors = find_existing_answers_vectors(df, question_id, W)\n",
    "\n",
    "# Initialize an empty array to store the cosine similarities\n",
    "cosine_similarities = []\n",
    "\n",
    "# Loop over the existing answer vectors and compute cosine similarity with the response vector\n",
    "for answer_vector in existing_answers_vectors:\n",
    "    cosine_similarity_score = cosine_similarity(response_vector.reshape(1, -1), answer_vector.reshape(1, -1))\n",
    "    cosine_similarities.append(cosine_similarity_score[0][0])\n",
    "\n",
    "# Convert the cosine similarities to a NumPy array\n",
    "cosine_similarities = np.array(cosine_similarities)\n",
    "\n",
    "# Concatenate the cosine similarities with the existing answer vectors\n",
    "combined_features = np.column_stack((existing_answers_vectors, cosine_similarities))\n",
    "\n",
    "# Split the data into training and test sets\n",
    "X_train, X_test, y_train, y_test = train_test_split(combined_features, df[df['Question_id'] == question_id]['Score'], test_size=0.2, random_state=42)\n",
    "\n",
    "# Scale input data to [0, 1] range\n",
    "scaler = MinMaxScaler()\n",
    "X_train_scaled = scaler.fit_transform(X_train)\n",
    "X_test_scaled = scaler.transform(X_test)\n",
    "\n",
    "# Create and train the Random Forest Regression model\n",
    "rf_model = RandomForestRegressor(n_estimators=100, random_state=42)\n",
    "rf_model.fit(X_train_scaled, y_train)\n",
    "\n",
    "# Reshape response vector to have the same shape as existing answer vectors\n",
    "response_vector_reshaped = np.tile(response_vector, (existing_answers_vectors.shape[0], 1))\n",
    "\n",
    "# Initialize an empty array to store the response cosine similarities\n",
    "response_cosine_similarities = []\n",
    "\n",
    "# Loop over the existing answer vectors and compute cosine similarity with the response vector\n",
    "for answer_vector in existing_answers_vectors:\n",
    "    response_cosine_similarity_score = cosine_similarity(response_vector_reshaped, answer_vector.reshape(1, -1))\n",
    "    response_cosine_similarities.append(response_cosine_similarity_score[0][0])\n",
    "\n",
    "# Convert the response cosine similarities to a NumPy array\n",
    "response_cosine_similarities = np.array(response_cosine_similarities)\n",
    "\n",
    "# Reshape response_cosine_similarities to match the shape of response_vector_reshaped\n",
    "response_cosine_similarities = response_cosine_similarities.reshape(-1, 1)\n",
    "\n",
    "# Concatenate the cosine similarities with the response vector\n",
    "response_combined_features = np.column_stack((response_vector_reshaped, response_cosine_similarities))\n",
    "\n",
    "# Scale the response vector\n",
    "response_combined_features_scaled = scaler.transform(response_combined_features)\n",
    "\n",
    "# Predict the score using the Random Forest Regression model\n",
    "score_prediction = rf_model.predict(response_combined_features_scaled)\n",
    "\n",
    "# Print the predicted score\n",
    "print(\"Predicted score:\", score_prediction[0])\n"
   ]
  },
  {
   "cell_type": "code",
   "execution_count": null,
   "id": "dd17adff",
   "metadata": {},
   "outputs": [
    {
     "name": "stdout",
     "output_type": "stream",
     "text": [
      "Predicted score: 3.06\n"
     ]
    }
   ],
   "source": [
    "from sklearn.model_selection import train_test_split\n",
    "from sklearn.preprocessing import MinMaxScaler\n",
    "from sklearn.ensemble import RandomForestRegressor\n",
    "\n",
    "existing_answers_vectors = find_existing_answers_vectors(df, question_id, W)\n",
    "\n",
    "# Split the data into training and test sets\n",
    "X_train, X_test, y_train, y_test = train_test_split(existing_answers_vectors, df[(df['Question_id'] == question_id)]['Score'], test_size=0.2, random_state=42)\n",
    "\n",
    "# Scale input data to [0, 1] range\n",
    "#scaler = MinMaxScaler()\n",
    "#X_train_scaled = scaler.fit_transform(X_train)\n",
    "#X_test_scaled = scaler.transform(X_test)\n",
    "\n",
    "# Create and train the Random Forest Regression model\n",
    "rf_model = RandomForestRegressor(n_estimators=100, random_state=42)\n",
    "rf_model.fit(X_train, y_train)\n",
    "\n",
    "# Reshape response vector to have shape (1, n)\n",
    "response_vector_reshaped = response_vector.reshape(1, -1)\n",
    "\n",
    "# Predict the score using the Random Forest Regression model\n",
    "score_prediction = rf_model.predict(response_vector_reshaped)\n",
    "\n",
    "# Print the predicted score\n",
    "print(\"Predicted score:\", score_prediction[0])\n"
   ]
  },
  {
   "cell_type": "code",
   "execution_count": null,
   "id": "43c130f4",
   "metadata": {},
   "outputs": [
    {
     "name": "stdout",
     "output_type": "stream",
     "text": [
      "Predicted score: 3.9772640260739336\n"
     ]
    }
   ],
   "source": [
    "from sklearn.preprocessing import MinMaxScaler\n",
    "from sklearn.ensemble import GradientBoostingRegressor\n",
    "\n",
    "existing_answers_vectors = find_existing_answers_vectors(df, question_id, W)\n",
    "\n",
    "# Split the data into training and test sets\n",
    "X_train, X_test, y_train, y_test = train_test_split(existing_answers_vectors, df[(df['Question_id'] == question_id)]['Score'], test_size=0.2, random_state=42)\n",
    "\n",
    "# Scale input data to [0, 1] range\n",
    "#scaler = MinMaxScaler()\n",
    "#X_train_scaled = scaler.fit_transform(X_train)\n",
    "#X_test_scaled = scaler.transform(X_test)\n",
    "\n",
    "# Create and train the Gradient Boosted Regression model\n",
    "gb_model = GradientBoostingRegressor(n_estimators=100, random_state=42)\n",
    "gb_model.fit(X_train, y_train)\n",
    "\n",
    "# Reshape response vector to have shape (1, n)\n",
    "response_vector_reshaped = response_vector.reshape(1, -1)\n",
    "\n",
    "# Predict the score using the Gradient Boosted Regression model\n",
    "score_prediction = gb_model.predict(response_vector_reshaped)\n",
    "print(\"Predicted score:\", score_prediction[0])"
   ]
  },
  {
   "cell_type": "code",
   "execution_count": null,
   "id": "956f0d93",
   "metadata": {},
   "outputs": [
    {
     "name": "stdout",
     "output_type": "stream",
     "text": [
      "Result score: 3.9772640260739336\n"
     ]
    }
   ],
   "source": [
    "# -----------------------------------------Pickling the model -------------------------------------------------------\n",
    "pickle.dump(gb_model,open(\"ModelPerfect.pkl\",\"wb\"))\n",
    "loaded_model = pickle.load(open(\"ModelPerfect.pkl\",\"rb\"))\n",
    "result = loaded_model.predict(response_vector_reshaped)\n",
    "print(\"Result score:\", result[0])"
   ]
  },
  {
   "cell_type": "code",
   "execution_count": null,
   "id": "cbf5017b",
   "metadata": {},
   "outputs": [
    {
     "name": "stdout",
     "output_type": "stream",
     "text": [
      "Predicted score: 2.299124748729821\n"
     ]
    }
   ],
   "source": [
    "from sklearn.metrics.pairwise import cosine_similarity\n",
    "from sklearn.ensemble import GradientBoostingRegressor\n",
    "from sklearn.model_selection import train_test_split\n",
    "from sklearn.preprocessing import MinMaxScaler\n",
    "import numpy as np\n",
    "\n",
    "existing_answers_vectors = find_existing_answers_vectors(df, question_id, W)\n",
    "\n",
    "# Initialize an empty array to store the cosine similarities\n",
    "cosine_similarities = []\n",
    "\n",
    "# Loop over the existing answer vectors and compute cosine similarity with the response vector\n",
    "for answer_vector in existing_answers_vectors:\n",
    "    cosine_similarity_score = cosine_similarity(response_vector.reshape(1, -1), answer_vector.reshape(1, -1))\n",
    "    cosine_similarities.append(cosine_similarity_score[0][0])\n",
    "\n",
    "# Convert the cosine similarities to a NumPy array\n",
    "cosine_similarities = np.array(cosine_similarities)\n",
    "\n",
    "# Concatenate the cosine similarities with the existing answer vectors\n",
    "combined_features = np.column_stack((existing_answers_vectors, cosine_similarities))\n",
    "\n",
    "# Split the data into training and test sets\n",
    "X_train, X_test, y_train, y_test = train_test_split(combined_features, df[df['Question_id'] == question_id]['Score'], test_size=0.2, random_state=42)\n",
    "\n",
    "# Scale input data to [0, 1] range\n",
    "scaler = MinMaxScaler()\n",
    "X_train_scaled = scaler.fit_transform(X_train)\n",
    "X_test_scaled = scaler.transform(X_test)\n",
    "\n",
    "# Create and train the GradientBoostingRegressor model\n",
    "gb_model = GradientBoostingRegressor(random_state=42)\n",
    "gb_model.fit(X_train_scaled, y_train)\n",
    "\n",
    "# Reshape response vector to have the same shape as existing answer vectors\n",
    "response_vector_reshaped = np.tile(response_vector, (existing_answers_vectors.shape[0], 1))\n",
    "\n",
    "# Initialize an empty array to store the response cosine similarities\n",
    "response_cosine_similarities = []\n",
    "\n",
    "# Loop over the existing answer vectors and compute cosine similarity with the response vector\n",
    "for answer_vector in existing_answers_vectors:\n",
    "    response_cosine_similarity_score = cosine_similarity(response_vector_reshaped, answer_vector.reshape(1, -1))\n",
    "    response_cosine_similarities.append(response_cosine_similarity_score[0][0])\n",
    "\n",
    "# Convert the response cosine similarities to a NumPy array\n",
    "response_cosine_similarities = np.array(response_cosine_similarities)\n",
    "\n",
    "# Reshape response_cosine_similarities to match the shape of response_vector_reshaped\n",
    "response_cosine_similarities = response_cosine_similarities.reshape(-1, 1)\n",
    "\n",
    "# Concatenate the cosine similarities with the response vector\n",
    "response_combined_features = np.column_stack((response_vector_reshaped, response_cosine_similarities))\n",
    "\n",
    "# Scale the response vector\n",
    "response_combined_features_scaled = scaler.transform(response_combined_features)\n",
    "\n",
    "# Predict the score using the GradientBoostingRegressor model\n",
    "score_prediction = gb_model.predict(response_combined_features_scaled)\n",
    "\n",
    "# Print the predicted score\n",
    "print(\"Predicted score:\", score_prediction[0])\n"
   ]
  },
  {
   "cell_type": "code",
   "execution_count": null,
   "id": "df120918",
   "metadata": {},
   "outputs": [],
   "source": []
  }
 ],
 "metadata": {
  "kernelspec": {
   "display_name": "Python 3 (ipykernel)",
   "language": "python",
   "name": "python3"
  },
  "language_info": {
   "codemirror_mode": {
    "name": "ipython",
    "version": 3
   },
   "file_extension": ".py",
   "mimetype": "text/x-python",
   "name": "python",
   "nbconvert_exporter": "python",
   "pygments_lexer": "ipython3",
   "version": "3.10.5"
  }
 },
 "nbformat": 4,
 "nbformat_minor": 5
}
